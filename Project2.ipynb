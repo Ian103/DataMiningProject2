{
 "cells": [
  {
   "cell_type": "markdown",
   "metadata": {},
   "source": [
    "### 題目 : 今天要不要出門\n",
    "### 屬性 :\n",
    "- 昨天有出門 : wasOut\n",
    "- 昨天有下雨 : wasRainy\n",
    "- 今天有下雨 : isRainy\n",
    "- 今天是假日 : isHoliday\n",
    "- 今天想睡覺 : isSleepy\n",
    "- 功課有寫完 : doneHomework\n",
    "- 家事有做完 : doneHoueswork\n",
    "\n",
    "### 規則 : \n",
    "\n",
    "![tree](tree.jpg)\n",
    "\n",
    "### 資料 :\n",
    "\n",
    "- 亂數產生**1000**筆資料\n",
    "     \n",
    "         "
   ]
  },
  {
   "cell_type": "code",
   "execution_count": 1,
   "metadata": {},
   "outputs": [],
   "source": [
    "import pandas as pd\n",
    "import random\n",
    "import numpy as np"
   ]
  },
  {
   "cell_type": "code",
   "execution_count": 2,
   "metadata": {},
   "outputs": [],
   "source": [
    "def getData(numInstance=1000):\n",
    "    numInstance = 1000\n",
    "    df = pd.DataFrame(columns=['wasOut', 'wasRainy', 'isRainy', 'isHoliday', 'isSleepy', 'doneHomework', 'doneHousework', 'out'])\n",
    "    for col in df.columns[:-1]:\n",
    "        df[col]=[bool(random.randint(0,1)) for i in range(numInstance)]\n",
    "    for i in range(numInstance):\n",
    "        if df.loc[i, 'wasRainy']:\n",
    "            if df.loc[i, 'isRainy']:\n",
    "                df.loc[i, 'out'] = False\n",
    "            else:\n",
    "                if df.loc[i, 'doneHousework']:\n",
    "                    if df.loc[i, 'wasOut']:\n",
    "                        df.loc[i, 'out'] = False\n",
    "                    else:\n",
    "                        df.loc[i, 'out'] = True\n",
    "                else:\n",
    "                    df.loc[i, 'out'] = False\n",
    "        else:\n",
    "            if df.loc[i, 'doneHomework']:\n",
    "                if df.loc[i, 'isHoliday']:\n",
    "                    df.loc[i, 'out'] = True\n",
    "                else:\n",
    "                    if df.loc[i, 'isSleepy']:\n",
    "                        df.loc[i, 'out'] = False\n",
    "                    else:\n",
    "                        df.loc[i, 'out'] = True\n",
    "            else:\n",
    "                df.loc[i, 'out'] = False\n",
    "    return df"
   ]
  },
  {
   "cell_type": "code",
   "execution_count": 3,
   "metadata": {
    "scrolled": true
   },
   "outputs": [],
   "source": [
    "# Generate new data\n",
    "# df = getData(1000)\n",
    "# df.to_csv('Data.csv', index=False)\n",
    "\n",
    "# Or read data form file\n",
    "df = pd.read_csv('data.csv')"
   ]
  },
  {
   "cell_type": "code",
   "execution_count": 4,
   "metadata": {},
   "outputs": [],
   "source": [
    "count_Nodes = np.zeros(8)\n",
    "for i in range(df.shape[0]):\n",
    "        if df.loc[i, 'wasRainy']:\n",
    "            if df.loc[i, 'isRainy']:\n",
    "                count_Nodes[0] +=1\n",
    "            else:\n",
    "                if df.loc[i, 'doneHousework']:\n",
    "                    if df.loc[i, 'wasOut']:\n",
    "                        count_Nodes[1] += 1\n",
    "                    else:\n",
    "                        count_Nodes[2] += 1\n",
    "                else:\n",
    "                    count_Nodes[3] += 1\n",
    "        else:\n",
    "            if df.loc[i, 'doneHomework']:\n",
    "                if df.loc[i, 'isHoliday']:\n",
    "                    count_Nodes[4] += 1\n",
    "                else:\n",
    "                    if df.loc[i, 'isSleepy']:\n",
    "                        count_Nodes[5] += 1\n",
    "                    else:\n",
    "                        count_Nodes[6] += 1\n",
    "            else:\n",
    "                count_Nodes[7] += 1"
   ]
  },
  {
   "cell_type": "code",
   "execution_count": 5,
   "metadata": {},
   "outputs": [],
   "source": [
    "class treeNode():\n",
    "    def __init__(self, value, rightSon=None, leftSon=None):\n",
    "        self.value = value\n",
    "        self.rightSon = rightSon\n",
    "        self.leftSon = leftSon\n",
    "    def getGINI_son(self, df):\n",
    "        counts = df['out'].value_counts()\n",
    "        total = sum(counts)\n",
    "        GINI = 1 - sum([pow(count/total, 2) for count in counts])\n",
    "        return total, GINI\n",
    "        # return GINI\n",
    "    def getGINI(self, df):\n",
    "        N1_count, N1_GINI = self.getGINI_son(df[df[self.value]==True])\n",
    "        N2_count, N2_GINI = self.getGINI_son(df[df[self.value]==False])\n",
    "        count = N1_count + N2_count\n",
    "        GINI = (N1_count*N1_GINI + N2_count*N2_GINI) / count\n",
    "        # print(N1_count, N1_GINI, N2_count, N2_GINI)\n",
    "        return GINI\n",
    "    def getValue(self):\n",
    "        return self.value\n",
    "    def getRightSon(self):\n",
    "        return self.rightSon\n",
    "    def getLeftSon(self):\n",
    "        return self.leftSon"
   ]
  },
  {
   "cell_type": "code",
   "execution_count": 6,
   "metadata": {},
   "outputs": [],
   "source": [
    "#\n",
    "Node_wasOut = treeNode('wasOut')\n",
    "Node_doneHousework = treeNode('doneHousework', rightSon=Node_wasOut)\n",
    "Node_isRainy = treeNode('isRainy', leftSon=Node_doneHousework)\n",
    "#\n",
    "Node_isSleepy = treeNode('isSleepy')\n",
    "Node_isHoliday = treeNode('isHoliday', leftSon=Node_isSleepy)\n",
    "Node_doneHomework = treeNode('doneHomework', rightSon=Node_isHoliday)\n",
    "#\n",
    "Node_wasRainy = treeNode('wasRainy', Node_isRainy, Node_doneHomework)\n"
   ]
  },
  {
   "cell_type": "code",
   "execution_count": 7,
   "metadata": {},
   "outputs": [],
   "source": [
    "def printGINI(Node, df):\n",
    "    if Node.getRightSon() != None:\n",
    "        printGINI(Node.getRightSon(), df[df[Node.getValue()]==True])\n",
    "    if Node.getLeftSon() != None:\n",
    "        printGINI(Node.getLeftSon(), df[df[Node.getValue()]==False])\n",
    "    print(Node.getValue(), round(Node.getGINI(df), 3))"
   ]
  },
  {
   "cell_type": "code",
   "execution_count": 8,
   "metadata": {
    "scrolled": false
   },
   "outputs": [
    {
     "name": "stdout",
     "output_type": "stream",
     "text": [
      "wasOut 0.0\n",
      "doneHousework 0.243\n",
      "isRainy 0.188\n",
      "isSleepy 0.0\n",
      "isHoliday 0.247\n",
      "doneHomework 0.196\n",
      "wasRainy 0.343\n"
     ]
    }
   ],
   "source": [
    "printGINI(Node_wasRainy,df)"
   ]
  },
  {
   "cell_type": "code",
   "execution_count": 40,
   "metadata": {},
   "outputs": [],
   "source": [
    "from sklearn import tree\n",
    "clf = tree.DecisionTreeClassifier()\n",
    "clf = clf.fit(df.iloc[:, :-1], df['out'])"
   ]
  },
  {
   "cell_type": "code",
   "execution_count": 44,
   "metadata": {
    "scrolled": true
   },
   "outputs": [
    {
     "data": {
      "text/plain": [
       "'tree.pdf'"
      ]
     },
     "execution_count": 44,
     "metadata": {},
     "output_type": "execute_result"
    }
   ],
   "source": [
    "import graphviz \n",
    "dot_data = tree.export_graphviz(clf, out_file=None) \n",
    "graph = graphviz.Source(dot_data) \n",
    "dot_data = tree.export_graphviz(clf, out_file=None, \n",
    "                                feature_names=df.columns[:-1],  \n",
    "                                class_names=['in', 'Out'],\n",
    "                                filled=True, rounded=True,\n",
    "                                special_characters=True)  \n",
    "graph = graphviz.Source(dot_data)  \n",
    "graph.render('tree')"
   ]
  },
  {
   "cell_type": "code",
   "execution_count": 47,
   "metadata": {
    "scrolled": true
   },
   "outputs": [
    {
     "name": "stdout",
     "output_type": "stream",
     "text": [
      "wasOut 0.36\n",
      "wasRainy 0.34\n",
      "isRainy 0.37\n",
      "isHoliday 0.37\n",
      "isSleepy 0.37\n",
      "doneHomework 0.31\n",
      "doneHousework 0.36\n"
     ]
    }
   ],
   "source": [
    "for col in df.columns[:-1]:\n",
    "    # right\n",
    "    N1_count = df[df[col]==True].shape[0]\n",
    "    N2_count = df[df[col]==False].shape[0]\n",
    "    N1_C1, N1_C2 = df[df[col]==True]['out'].value_counts()\n",
    "    N2_C1, N2_C2 = df[df[col]==False]['out'].value_counts()\n",
    "    GINI = (N1_count * (1 - pow(N1_C1 / (N1_C1 + N1_C2), 2) - pow(N1_C2 / (N1_C1 + N1_C2), 2)) +\n",
    "            N2_count * (1 - pow(N2_C1 / (N2_C1 + N2_C2), 2) - pow(N2_C2 / (N2_C1 + N2_C2), 2)))/(N1_count + N2_count)\n",
    "    print(col, round(GINI, 2))\n",
    "        "
   ]
  }
 ],
 "metadata": {
  "kernelspec": {
   "display_name": "Python 3",
   "language": "python",
   "name": "python3"
  },
  "language_info": {
   "codemirror_mode": {
    "name": "ipython",
    "version": 3
   },
   "file_extension": ".py",
   "mimetype": "text/x-python",
   "name": "python",
   "nbconvert_exporter": "python",
   "pygments_lexer": "ipython3",
   "version": "3.5.6"
  }
 },
 "nbformat": 4,
 "nbformat_minor": 2
}
